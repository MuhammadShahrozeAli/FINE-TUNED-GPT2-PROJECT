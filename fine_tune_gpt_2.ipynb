{
  "nbformat": 4,
  "nbformat_minor": 0,
  "metadata": {
    "colab": {
      "provenance": []
    },
    "kernelspec": {
      "name": "python3",
      "display_name": "Python 3"
    },
    "accelerator": "GPU"
  },
  "cells": [
    {
      "cell_type": "code",
      "metadata": {
        "id": "5He2U6op5X0Y",
        "outputId": "3dcccdbf-47c8-42a9-9935-71c052a8a7d7",
        "colab": {
          "base_uri": "https://localhost:8080/",
          "height": 505
        }
      },
      "source": [
        "%tensorflow_version 1.x\n",
        "!pip install gpt-2-simple\n",
        "import gpt_2_simple as gpt2"
      ],
      "execution_count": null,
      "outputs": [
        {
          "output_type": "stream",
          "text": [
            "TensorFlow 1.x selected.\n",
            "Collecting gpt-2-simple\n",
            "  Downloading https://files.pythonhosted.org/packages/6f/e4/a90add0c3328eed38a46c3ed137f2363b5d6a07bf13ee5d5d4d1e480b8c3/gpt_2_simple-0.7.1.tar.gz\n",
            "Requirement already satisfied: regex in /usr/local/lib/python3.6/dist-packages (from gpt-2-simple) (2019.12.20)\n",
            "Requirement already satisfied: requests in /usr/local/lib/python3.6/dist-packages (from gpt-2-simple) (2.23.0)\n",
            "Requirement already satisfied: tqdm in /usr/local/lib/python3.6/dist-packages (from gpt-2-simple) (4.41.1)\n",
            "Requirement already satisfied: numpy in /usr/local/lib/python3.6/dist-packages (from gpt-2-simple) (1.18.5)\n",
            "Collecting toposort\n",
            "  Downloading https://files.pythonhosted.org/packages/e9/8a/321cd8ea5f4a22a06e3ba30ef31ec33bea11a3443eeb1d89807640ee6ed4/toposort-1.5-py2.py3-none-any.whl\n",
            "Requirement already satisfied: chardet<4,>=3.0.2 in /usr/local/lib/python3.6/dist-packages (from requests->gpt-2-simple) (3.0.4)\n",
            "Requirement already satisfied: idna<3,>=2.5 in /usr/local/lib/python3.6/dist-packages (from requests->gpt-2-simple) (2.10)\n",
            "Requirement already satisfied: urllib3!=1.25.0,!=1.25.1,<1.26,>=1.21.1 in /usr/local/lib/python3.6/dist-packages (from requests->gpt-2-simple) (1.24.3)\n",
            "Requirement already satisfied: certifi>=2017.4.17 in /usr/local/lib/python3.6/dist-packages (from requests->gpt-2-simple) (2020.6.20)\n",
            "Building wheels for collected packages: gpt-2-simple\n",
            "  Building wheel for gpt-2-simple (setup.py) ... \u001b[?25l\u001b[?25hdone\n",
            "  Created wheel for gpt-2-simple: filename=gpt_2_simple-0.7.1-cp36-none-any.whl size=23581 sha256=543c4a1df9de1ce3ce6798467d22ff589e48554eda9f64ebd15786bb2aebdb43\n",
            "  Stored in directory: /root/.cache/pip/wheels/0c/f8/23/b53ce437504597edff76bf9c3b8de08ad716f74f6c6baaa91a\n",
            "Successfully built gpt-2-simple\n",
            "Installing collected packages: toposort, gpt-2-simple\n",
            "Successfully installed gpt-2-simple-0.7.1 toposort-1.5\n",
            "WARNING:tensorflow:\n",
            "The TensorFlow contrib module will not be included in TensorFlow 2.0.\n",
            "For more information, please see:\n",
            "  * https://github.com/tensorflow/community/blob/master/rfcs/20180907-contrib-sunset.md\n",
            "  * https://github.com/tensorflow/addons\n",
            "  * https://github.com/tensorflow/io (for I/O related ops)\n",
            "If you depend on functionality not listed there, please file an issue.\n",
            "\n"
          ],
          "name": "stdout"
        }
      ]
    },
    {
      "cell_type": "code",
      "metadata": {
        "id": "Cylvw0jt6zR6",
        "outputId": "bb736781-809e-48d2-8656-8bb2f66720da",
        "colab": {
          "base_uri": "https://localhost:8080/",
          "height": 134
        }
      },
      "source": [
        "gpt2.download_gpt2(model_name=\"355M\")"
      ],
      "execution_count": null,
      "outputs": [
        {
          "output_type": "stream",
          "text": [
            "Fetching checkpoint: 1.05Mit [00:00, 377Mit/s]                                                      \n",
            "Fetching encoder.json: 1.05Mit [00:00, 89.9Mit/s]                                                   \n",
            "Fetching hparams.json: 1.05Mit [00:00, 357Mit/s]                                                    \n",
            "Fetching model.ckpt.data-00000-of-00001: 1.42Git [00:21, 66.1Mit/s]                                 \n",
            "Fetching model.ckpt.index: 1.05Mit [00:00, 416Mit/s]                                                \n",
            "Fetching model.ckpt.meta: 1.05Mit [00:00, 92.7Mit/s]                                                \n",
            "Fetching vocab.bpe: 1.05Mit [00:00, 119Mit/s]                                                       \n"
          ],
          "name": "stderr"
        }
      ]
    },
    {
      "cell_type": "code",
      "metadata": {
        "id": "qWmZ0ryw63ls"
      },
      "source": [
        "raw_data = '/content/drive/My Drive/data.json'"
      ],
      "execution_count": null,
      "outputs": []
    },
    {
      "cell_type": "code",
      "metadata": {
        "id": "WHyj5LIZqb3e"
      },
      "source": [
        "import json\n",
        "\n",
        "\n",
        "with open(raw_data, 'r') as f:\n",
        "    df =json.load(f)\n",
        "\n",
        "\n",
        "data = []\n",
        "\n",
        "for x in df:\n",
        "    for y in range(len(x['dialog'])-1):\n",
        "        a = '[BOT] : ' + x['dialog'][y+1]['text']\n",
        "        q = '[YOU] : ' + x['dialog'][y]['text']\n",
        "        data.append(q)\n",
        "        data.append(a)\n",
        "        "
      ],
      "execution_count": null,
      "outputs": []
    },
    {
      "cell_type": "code",
      "metadata": {
        "id": "XCTnku1frEGD"
      },
      "source": [
        "with open('chatbot.txt', 'w') as f:\n",
        "     for line in data:\n",
        "        try:\n",
        "            f.write(line)\n",
        "            f.write('\\n')\n",
        "        except:\n",
        "            pass"
      ],
      "execution_count": null,
      "outputs": []
    },
    {
      "cell_type": "code",
      "metadata": {
        "id": "YIKSVklXs-Sb"
      },
      "source": [
        "file_name = \"/content/chatbot.txt\""
      ],
      "execution_count": null,
      "outputs": []
    },
    {
      "cell_type": "code",
      "metadata": {
        "id": "wGHxqXIwY4oB"
      },
      "source": [
        "sess = gpt2.start_tf_sess()\n"
      ],
      "execution_count": null,
      "outputs": []
    },
    {
      "cell_type": "code",
      "metadata": {
        "id": "QuZzjdWt6555",
        "outputId": "e590a262-428e-4494-d68e-0f9e4d8f2139",
        "colab": {
          "base_uri": "https://localhost:8080/",
          "height": 1000
        }
      },
      "source": [
        "\n",
        "gpt2.finetune(sess,\n",
        "              dataset=file_name,\n",
        "              model_name='355M',\n",
        "              steps=500,\n",
        "              restore_from='fresh',\n",
        "              run_name='run1',\n",
        "              print_every=10,\n",
        "              sample_every=100,\n",
        "              save_every=100\n",
        "              )"
      ],
      "execution_count": null,
      "outputs": [
        {
          "output_type": "stream",
          "text": [
            "WARNING:tensorflow:From /usr/local/lib/python3.6/dist-packages/gpt_2_simple/src/sample.py:17: where (from tensorflow.python.ops.array_ops) is deprecated and will be removed in a future version.\n",
            "Instructions for updating:\n",
            "Use tf.where in 2.0, which has the same broadcast rule as np.where\n",
            "WARNING:tensorflow:From /usr/local/lib/python3.6/dist-packages/gpt_2_simple/src/memory_saving_gradients.py:62: get_backward_walk_ops (from tensorflow.contrib.graph_editor.select) is deprecated and will be removed after 2019-06-06.\n",
            "Instructions for updating:\n",
            "Please use tensorflow.python.ops.op_selector.get_backward_walk_ops.\n",
            "Loading checkpoint models/355M/model.ckpt\n",
            "INFO:tensorflow:Restoring parameters from models/355M/model.ckpt\n"
          ],
          "name": "stdout"
        },
        {
          "output_type": "stream",
          "text": [
            "\r  0%|          | 0/1 [00:00<?, ?it/s]"
          ],
          "name": "stderr"
        },
        {
          "output_type": "stream",
          "text": [
            "Loading dataset...\n"
          ],
          "name": "stdout"
        },
        {
          "output_type": "stream",
          "text": [
            "100%|██████████| 1/1 [00:05<00:00,  5.12s/it]\n"
          ],
          "name": "stderr"
        },
        {
          "output_type": "stream",
          "text": [
            "dataset has 1015293 tokens\n",
            "Training...\n",
            "[10 | 42.22] loss=0.89 avg=0.89\n",
            "[20 | 74.04] loss=1.30 avg=1.09\n",
            "[30 | 105.81] loss=1.20 avg=1.13\n",
            "[40 | 137.61] loss=0.93 avg=1.08\n",
            "[50 | 169.38] loss=1.17 avg=1.10\n",
            "[60 | 201.13] loss=1.03 avg=1.09\n",
            "[70 | 232.85] loss=0.82 avg=1.05\n",
            "[80 | 264.58] loss=0.79 avg=1.01\n",
            "[90 | 296.29] loss=1.13 avg=1.03\n",
            "[100 | 328.05] loss=1.15 avg=1.04\n",
            "Saving checkpoint/run1/model-100\n",
            "======== SAMPLE 1 ========\n",
            " work out of a dog cage that is supposed to have a big yard:\n",
            "[BOT] : Hey, are you a bird?\n",
            "[YOU] : Hi, I'm a big fan of bird\n",
            "[BOT] : What do you want me to do?\n",
            "[YOU] : What do you want me to do?\n",
            "[BOT] : Do you have any children?\n",
            "[YOU] : Do you have any children?\n",
            "[BOT] : No, just a big dog.\n",
            "[YOU] : No, just a big dog.\n",
            "[BOT] : Okay, but I am a dog owner.\n",
            "[YOU] : Okay, but I am a dog owner.\n",
            "[BOT] : What do you eat?\n",
            "[YOU] : What do you eat?\n",
            "[BOT] : Do you like animals?\n",
            "[YOU] : Do you like animals?\n",
            "[BOT] : Do you have any children?\n",
            "[YOU] : Do you have any children?\n",
            "[BOT] : No, just a giant dog.\n",
            "[YOU] : No, just a giant dog.\n",
            "[BOT] : Why are you so sad to have such a dog?\n",
            "[YOU] : Why are you so sad to have such a dog?\n",
            "[BOT] : Why are you?\n",
            "[YOU] : Why are you?\n",
            "[BOT] : Do you know something about me?\n",
            "[YOU] : Do you know something about me?\n",
            "[BOT] : Me too\n",
            "[YOU] : Me too\n",
            "[BOT] : Who are you?\n",
            "[YOU] : Who are you?\n",
            "[BOT] : Can you please stop?\n",
            "[YOU] : Can you please stop?\n",
            "[BOT] : No, I'm a dog. What do you love?\n",
            "[YOU] : No, I'm a dog. What do you love?\n",
            "[BOT] : What do you love?\n",
            "[YOU] : What do you love?\n",
            "[BOT] : I do not and I love to do it all.\n",
            "[YOU] : I do not and I love to do it all.\n",
            "[BOT] : Ok.. I am not interested\n",
            "[YOU] : Ok.. I am not interested\n",
            "[BOT] : Can you please stop?\n",
            "[YOU] : Can you please stop?\n",
            "[BOT] : Why are you so mad??\n",
            "[YOU] : Why are you so mad??\n",
            "[BOT] : How old is she?\n",
            "[YOU] : How old is she?\n",
            "[BOT] : You are not a child\n",
            "[YOU] : You are not a child\n",
            "[BOT] : No, I'm not. Are you a dog?\n",
            "[YOU] : No, I'm not. Are you a dog?\n",
            "[BOT] : No, I'm not. Are you a dog?\n",
            "[YOU] : No, I'm not. Are you a dog?\n",
            "[BOT] : No, I'm not. Are you a dog?\n",
            "[YOU] : No, I'm not. Are you a dog?\n",
            "[BOT] : No, I'm not. Is she crazy?\n",
            "[YOU] : No, I'm not. Is she crazy?\n",
            "[BOT] : No, I am not. Is she crazy?\n",
            "[YOU] : No, I am not. Is she crazy?\n",
            "[BOT] : No, I am not crazy about this, I am not\n",
            "[YOU] : No, I am not crazy about this, I can say this again\n",
            "[BOT] : I'm sorry to hear that, but I like to talk :)\n",
            "[YOU] : I'm sorry to hear that, but I like to talk :)\n",
            "[BOT] : Hello\n",
            "[YOU] : Hello\n",
            "[BOT] : Why do you want to talk?\n",
            "[YOU] : Why do you want to talk?\n",
            "[BOT] : Why?\n",
            "[YOU] : Why?\n",
            "[BOT] : That is a lot of talk :)\n",
            "[YOU] : That is a lot of talk :)\n",
            "[BOT] : Where do you talk about?\n",
            "[YOU] : What do you talk about?\n",
            "[BOT] : Ok so I have no one\n",
            "[YOU] : Ok so I have no one\n",
            "[BOT] : So what are you?\n",
            "[YOU] : So what are you?\n",
            "[BOT] : Ok bye!\n",
            "[YOU] : Ok bye!\n",
            "[BOT] : Hello?\n",
            "[YOU] : Hello?\n",
            "[BOT] : Ok you, that's cute. Have you not thought about that? 😃\n",
            "[YOU] : Ok you, that's cute. Have you not thought about that? 😃\n",
            "[B\n",
            "\n",
            "[110 | 407.52] loss=1.14 avg=1.05\n",
            "[120 | 439.31] loss=1.20 avg=1.06\n",
            "[130 | 471.08] loss=0.82 avg=1.04\n",
            "[140 | 502.84] loss=0.87 avg=1.03\n",
            "[150 | 534.55] loss=0.99 avg=1.03\n",
            "[160 | 566.31] loss=1.06 avg=1.03\n",
            "[170 | 598.03] loss=0.79 avg=1.01\n",
            "[180 | 629.69] loss=0.77 avg=1.00\n",
            "[190 | 661.41] loss=0.99 avg=1.00\n",
            "[200 | 693.10] loss=1.15 avg=1.01\n",
            "Saving checkpoint/run1/model-200\n",
            "WARNING:tensorflow:From /tensorflow-1.15.2/python3.6/tensorflow_core/python/training/saver.py:963: remove_checkpoint (from tensorflow.python.training.checkpoint_management) is deprecated and will be removed in a future version.\n",
            "Instructions for updating:\n",
            "Use standard file APIs to delete files with this prefix.\n",
            "======== SAMPLE 1 ========\n",
            " hello  \n",
            "Tell me about yourself 👋\n",
            "[YOU] : my favorite colour  \n",
            "Tell me about yourself 👋\n",
            "[BOT] : i’m from europe\n",
            "[YOU] : i’m from europe\n",
            "[BOT] : what is your country   \n",
            "Tell me about yourself 👇\n",
            "[YOU] : what is your country  \n",
            "[BOT] : i’m in europe\n",
            "[YOU] : i’m in europe\n",
            "[BOT] : how long is your day\n",
            "[YOU] : how long is your day\n",
            "[BOT] : it was a little over 4h and m y mother had to go to the hospital to check me  \n",
            "[YOU] : it was a little over 4h and m y mother had to go to the hospital to check me  \n",
            "[BOT] : what is your mother\n",
            "[YOU] : what is your mother\n",
            "[BOT] : my mom gave me a new job  \n",
            "[YOU] : my mom gave me a new job  \n",
            "[BOT] : tell me something  \n",
            "[YOU] : tell me something  \n",
            "[BOT] : i’m a vegan  \n",
            "[YOU] : i’m a vegan  \n",
            "[BOT] : I love dogs!\n",
            "[YOU] : I love dogs!\n",
            "[BOT] : I love❤ dogs!\n",
            "[YOU] : Hi\n",
            "[BOT] : Hi what’s up.\n",
            "[YOU] : Hi what’s up.\n",
            "[BOT] : Hi, it is good. What did you study in a school?\n",
            "[YOU] : Hi, it is good. What did you study in a school?\n",
            "[BOT] : no\n",
            "[YOU] : no\n",
            "[BOT] : I was a professor in a school.\n",
            "[YOU] : Hi\n",
            "[BOT] : Hi what’s up.\n",
            "[YOU] : Hi what’s up.\n",
            "[BOT] : What is your favorite color?\n",
            "[YOU] : What is your favorite color?\n",
            "[BOT] : cool purple\n",
            "[YOU] : cool purple\n",
            "[BOT] : that's very cool   \n",
            "[YOU] : that's very cool  \n",
            "[BOT] : I love purple\n",
            "[YOU] : I love purple\n",
            "[BOT] : What is your favorite food?\n",
            "[YOU] : What is your favorite food?\n",
            "[BOT] : pizza   \n",
            "[YOU] : pizza  \n",
            "[BOT] : I love pizza\n",
            "[YOU] : I love pizza\n",
            "[BOT] : oh  ave in the summer  \n",
            "[YOU] : ave in the summer  \n",
            "[BOT] : What is in summer?\n",
            "[YOU] : What is in summer?\n",
            "[BOT] : I love❤ the beach\n",
            "[YOU] : I love❤ the beach\n",
            "[BOT] : i am in summer  \n",
            "[YOU] : i am in summer  \n",
            "[BOT] : Are you from USA?\n",
            "[YOU] : Are you from USA?\n",
            "[BOT] : no i am not my favorite  \n",
            "[YOU] : Hi\n",
            "[BOT] : Hi, how’s it going?\n",
            "[YOU] : Hi, my parents are retired.\n",
            "[BOT] : i m retired?  \n",
            "What do you think about retirement?\n",
            "[YOU] : i m retired?  \n",
            "What do you think about retirement?\n",
            "[BOT] : Do you like to write?\n",
            "[YOU] : Do you like to write?\n",
            "[BOT] : hello    \n",
            "[YOU] : hello   \n",
            "How are you?\n",
            "[BOT] : I am not gon na let you go\n",
            "[YOU] : I am not gon na let you go\n",
            "[BOT] : oh   how is your morning like  \n",
            "[YOU] : oh   how is your morning like  \n",
            "[BOT] : I hope you are awake. Do you have any hobbies?\n",
            "[YOU] : I hope you are awake. Do you have any hobbies?\n",
            "[BOT] : no i m retired   what is your job  \n",
            "[YOU] : no i m retired   what is your job  \n",
            "[BOT] : my job?\n",
            "[YOU] : my job?\n",
            "[BOT] : yes   it is \n",
            "[YOU] : yes   it is \n",
            "[BOT] : What is your job?\n",
            "[YOU] : What is your job?\n",
            "[BOT] : yes   i\n",
            "\n",
            "[210 | 768.49] loss=0.86 avg=1.00\n",
            "interrupted\n",
            "Saving checkpoint/run1/model-217\n"
          ],
          "name": "stdout"
        }
      ]
    },
    {
      "cell_type": "code",
      "metadata": {
        "id": "5EgLJmDo7CDZ"
      },
      "source": [
        "while True:\n",
        "  ques = input(\"Question : \")\n",
        "\n",
        "  inp = '[YOU] : '+ques+'\\n'+'[BOT] :'\n",
        "\n",
        "  x = gpt2.generate(sess,\n",
        "                length=20,\n",
        "                temperature = 0.6,\n",
        "                include_prefix=False,\n",
        "                prefix=inp,\n",
        "                nsamples=1,\n",
        "                )"
      ],
      "execution_count": null,
      "outputs": []
    },
    {
      "cell_type": "code",
      "metadata": {
        "id": "Mb_w1yWHSuGJ",
        "outputId": "db3fa39b-2b8c-4197-df0d-75facfa602a4",
        "colab": {
          "base_uri": "https://localhost:8080/",
          "height": 100
        }
      },
      "source": [
        "while True:\n",
        "  ques = input(\"Question : \")\n",
        "\n",
        "  inp = '[YOU] : '+ques+'\\n'+'[BOT] :'\n",
        "\n",
        "  x = gpt2.generate(sess,\n",
        "                length=20,\n",
        "                temperature = 0.6,\n",
        "                include_prefix=False,\n",
        "                prefix=inp,\n",
        "                nsamples=1,\n",
        "                return_as_list=True)[0]\n",
        "  print(x)"
      ],
      "execution_count": null,
      "outputs": [
        {
          "output_type": "stream",
          "text": [
            "[YOU] : hi\n",
            "[BOT] : hi\n",
            "[YOU] : hi\n",
            "[BOT] : i am a girl\n",
            "[YOU\n"
          ],
          "name": "stdout"
        }
      ]
    },
    {
      "cell_type": "code",
      "metadata": {
        "id": "7VPDm4y-8AOR"
      },
      "source": [],
      "execution_count": null,
      "outputs": []
    }
  ]
}